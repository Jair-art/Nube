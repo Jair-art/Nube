{
  "nbformat": 4,
  "nbformat_minor": 0,
  "metadata": {
    "colab": {
      "provenance": [],
      "authorship_tag": "ABX9TyMa8RSLwiFrkXWrOtLt+0hm",
      "include_colab_link": true
    },
    "kernelspec": {
      "name": "python3",
      "display_name": "Python 3"
    },
    "language_info": {
      "name": "python"
    }
  },
  "cells": [
    {
      "cell_type": "markdown",
      "metadata": {
        "id": "view-in-github",
        "colab_type": "text"
      },
      "source": [
        "<a href=\"https://colab.research.google.com/github/Jair-art/Nube/blob/main/Clase0107.ipynb\" target=\"_parent\"><img src=\"https://colab.research.google.com/assets/colab-badge.svg\" alt=\"Open In Colab\"/></a>"
      ]
    },
    {
      "cell_type": "code",
      "source": [
        "import numpy as np"
      ],
      "metadata": {
        "id": "ullaJvxFiqcK"
      },
      "execution_count": 1,
      "outputs": []
    },
    {
      "cell_type": "code",
      "source": [
        "# Pivotear, es decir, multiplicar el primer renglon por su inversa\n",
        "\n",
        "A = [[2,1,4,1],[3,4,-1,-1],[1,-4,1,5],[2,2,1,3]]\n",
        "A = np.array(A)"
      ],
      "metadata": {
        "id": "xjhovAwditkb"
      },
      "execution_count": null,
      "outputs": []
    },
    {
      "cell_type": "code",
      "source": [
        "x = np.zeros(4)\n",
        "x"
      ],
      "metadata": {
        "colab": {
          "base_uri": "https://localhost:8080/"
        },
        "id": "N5rLHH-zjx32",
        "outputId": "a212247f-7d48-41c3-c25b-a4e077e5ee3b"
      },
      "execution_count": null,
      "outputs": [
        {
          "output_type": "execute_result",
          "data": {
            "text/plain": [
              "array([0., 0., 0., 0.])"
            ]
          },
          "metadata": {},
          "execution_count": 4
        }
      ]
    },
    {
      "cell_type": "code",
      "source": [
        "a00 ="
      ],
      "metadata": {
        "id": "KHyEf4mCj022"
      },
      "execution_count": null,
      "outputs": []
    },
    {
      "cell_type": "code",
      "source": [
        "A = [[11,2,3],[-4,5,8],[1,0,1]]\n",
        "A = np.array(A)\n",
        "\n",
        "x = [2,4,3]"
      ],
      "metadata": {
        "id": "L3mrRZkTunXq"
      },
      "execution_count": null,
      "outputs": []
    },
    {
      "cell_type": "code",
      "source": [
        "A[0] = A[0]*(1/A[0,0])\n",
        "A[0]"
      ],
      "metadata": {
        "colab": {
          "base_uri": "https://localhost:8080/"
        },
        "id": "UlWKNlB1uyar",
        "outputId": "d149c63b-c5aa-4bbe-c5c7-67730dc4e7b9"
      },
      "execution_count": null,
      "outputs": [
        {
          "output_type": "execute_result",
          "data": {
            "text/plain": [
              "array([1, 0, 0])"
            ]
          },
          "metadata": {},
          "execution_count": 11
        }
      ]
    },
    {
      "cell_type": "code",
      "source": [
        "A[1] = A[1]*(1/A[1,1])\n",
        "A[1]"
      ],
      "metadata": {
        "colab": {
          "base_uri": "https://localhost:8080/"
        },
        "id": "J1yyfoeO0c8c",
        "outputId": "1b41ed3e-4aa9-4f11-a2e7-c403defbf75f"
      },
      "execution_count": null,
      "outputs": [
        {
          "output_type": "execute_result",
          "data": {
            "text/plain": [
              "array([0, 1, 1])"
            ]
          },
          "metadata": {},
          "execution_count": 9
        }
      ]
    },
    {
      "cell_type": "code",
      "source": [
        "A"
      ],
      "metadata": {
        "colab": {
          "base_uri": "https://localhost:8080/"
        },
        "id": "SKqwYchZyLUe",
        "outputId": "3378be1e-7497-4778-b3e6-25b02d2e8f9f"
      },
      "execution_count": null,
      "outputs": [
        {
          "output_type": "execute_result",
          "data": {
            "text/plain": [
              "array([[11,  2,  3],\n",
              "       [-4,  5,  8],\n",
              "       [ 1,  0,  1]])"
            ]
          },
          "metadata": {},
          "execution_count": 5
        }
      ]
    },
    {
      "cell_type": "code",
      "source": [
        "for i in range(3):\n",
        "  print(A[i,:])"
      ],
      "metadata": {
        "colab": {
          "base_uri": "https://localhost:8080/"
        },
        "id": "tZo77lCIyXq8",
        "outputId": "65b572a2-f979-476d-ca35-b7eda5f3110b"
      },
      "execution_count": null,
      "outputs": [
        {
          "output_type": "stream",
          "name": "stdout",
          "text": [
            "[1 0 0]\n",
            "[0 1 1]\n",
            "[1 0 1]\n"
          ]
        }
      ]
    },
    {
      "cell_type": "code",
      "source": [
        "A[0,:]"
      ],
      "metadata": {
        "colab": {
          "base_uri": "https://localhost:8080/"
        },
        "id": "wrwRD1_T1372",
        "outputId": "c2437166-5026-4e28-dce6-6b26864b5153"
      },
      "execution_count": null,
      "outputs": [
        {
          "output_type": "execute_result",
          "data": {
            "text/plain": [
              "array([1, 0, 0])"
            ]
          },
          "metadata": {},
          "execution_count": 14
        }
      ]
    },
    {
      "cell_type": "code",
      "source": [
        "A = [[11,2,3],[-4,5,8],[1,0,1]]\n",
        "A = np.array(A, float)\n",
        "A"
      ],
      "metadata": {
        "colab": {
          "base_uri": "https://localhost:8080/"
        },
        "id": "HvCau_rN1-UJ",
        "outputId": "36655459-77a3-49db-eaf6-64697d767cff"
      },
      "execution_count": null,
      "outputs": [
        {
          "output_type": "execute_result",
          "data": {
            "text/plain": [
              "array([[11.,  2.,  3.],\n",
              "       [-4.,  5.,  8.],\n",
              "       [ 1.,  0.,  1.]])"
            ]
          },
          "metadata": {},
          "execution_count": 24
        }
      ]
    },
    {
      "cell_type": "code",
      "source": [
        "A[0] = A[0]/A[0,0]\n",
        "A"
      ],
      "metadata": {
        "colab": {
          "base_uri": "https://localhost:8080/"
        },
        "id": "OH2CbPg82JSX",
        "outputId": "e2fe4bd3-2504-42e6-ed5a-ad06df0660fb"
      },
      "execution_count": null,
      "outputs": [
        {
          "output_type": "execute_result",
          "data": {
            "text/plain": [
              "array([[ 1.        ,  0.18181818,  0.27272727],\n",
              "       [-4.        ,  5.        ,  8.        ],\n",
              "       [ 1.        ,  0.        ,  1.        ]])"
            ]
          },
          "metadata": {},
          "execution_count": 25
        }
      ]
    },
    {
      "cell_type": "code",
      "source": [
        "A[0]/A[0,0]"
      ],
      "metadata": {
        "colab": {
          "base_uri": "https://localhost:8080/"
        },
        "id": "ndR1a-Am2Rv1",
        "outputId": "6fa6e39d-3f67-4858-c56e-a49e571b619e"
      },
      "execution_count": null,
      "outputs": [
        {
          "output_type": "execute_result",
          "data": {
            "text/plain": [
              "array([1.        , 0.18181818, 0.27272727])"
            ]
          },
          "metadata": {},
          "execution_count": 23
        }
      ]
    },
    {
      "cell_type": "code",
      "source": [
        "A[0,:]/A[0,0]"
      ],
      "metadata": {
        "colab": {
          "base_uri": "https://localhost:8080/"
        },
        "id": "zweKgj5b2fU4",
        "outputId": "0e91b040-2652-4871-8a28-708ae59cbc3a"
      },
      "execution_count": null,
      "outputs": [
        {
          "output_type": "execute_result",
          "data": {
            "text/plain": [
              "array([1.        , 0.18181818, 0.27272727])"
            ]
          },
          "metadata": {},
          "execution_count": 26
        }
      ]
    },
    {
      "cell_type": "code",
      "source": [
        "for m in range(len(A)):\n",
        "  A[m,:] /= A[m,m]"
      ],
      "metadata": {
        "id": "J0Gt9nhM3Y0J"
      },
      "execution_count": null,
      "outputs": []
    },
    {
      "cell_type": "code",
      "source": [
        "A"
      ],
      "metadata": {
        "colab": {
          "base_uri": "https://localhost:8080/"
        },
        "id": "cgLZpS7Q3zo6",
        "outputId": "24d0bd34-820e-44da-86d2-df40844a31d8"
      },
      "execution_count": null,
      "outputs": [
        {
          "output_type": "execute_result",
          "data": {
            "text/plain": [
              "array([[ 1.        ,  0.18181818,  0.27272727],\n",
              "       [-0.8       ,  1.        ,  1.6       ],\n",
              "       [ 1.        ,  0.        ,  1.        ]])"
            ]
          },
          "metadata": {},
          "execution_count": 34
        }
      ]
    },
    {
      "cell_type": "code",
      "source": [
        "A = [[11,2,3],[-4,5,8],[1,0,1]]\n",
        "A = np.array(A, float)\n",
        "A"
      ],
      "metadata": {
        "id": "V3vHJE4V5URd",
        "colab": {
          "base_uri": "https://localhost:8080/"
        },
        "outputId": "43c8d944-4346-4920-fcf4-a68071e7d2fc"
      },
      "execution_count": 39,
      "outputs": [
        {
          "output_type": "execute_result",
          "data": {
            "text/plain": [
              "array([[11.,  2.,  3.],\n",
              "       [-4.,  5.,  8.],\n",
              "       [ 1.,  0.,  1.]])"
            ]
          },
          "metadata": {},
          "execution_count": 39
        }
      ]
    },
    {
      "cell_type": "code",
      "source": [
        "for m in range(len(A)):\n",
        "  A[m,:] /= A[m,m]\n",
        "A"
      ],
      "metadata": {
        "id": "bTJ_AJ5h5WHF",
        "colab": {
          "base_uri": "https://localhost:8080/"
        },
        "outputId": "a033d136-6483-4dc0-af81-879304c58b6c"
      },
      "execution_count": 36,
      "outputs": [
        {
          "output_type": "execute_result",
          "data": {
            "text/plain": [
              "array([[ 1.        ,  0.18181818,  0.27272727],\n",
              "       [-0.8       ,  1.        ,  1.6       ],\n",
              "       [ 1.        ,  0.        ,  1.        ]])"
            ]
          },
          "metadata": {},
          "execution_count": 36
        }
      ]
    },
    {
      "cell_type": "code",
      "source": [
        "for m in range(len(A)):\n",
        "  A[m,:] /= A[m,m]\n",
        "  for i in range(len(A)):\n",
        "    for j in range(i+1,len(A)):\n",
        "        A[j] =  A[j] - A[j,i]*A[i]"
      ],
      "metadata": {
        "id": "Cv8kQ0AO322C"
      },
      "execution_count": 44,
      "outputs": []
    },
    {
      "cell_type": "code",
      "source": [
        "A"
      ],
      "metadata": {
        "colab": {
          "base_uri": "https://localhost:8080/"
        },
        "id": "uA3H57rH5ONw",
        "outputId": "351d7d87-f032-49a0-f705-b398744ae699"
      },
      "execution_count": 45,
      "outputs": [
        {
          "output_type": "execute_result",
          "data": {
            "text/plain": [
              "array([[1.        , 0.18181818, 0.27272727],\n",
              "       [0.        , 1.        , 1.58730159],\n",
              "       [0.        , 0.        , 1.        ]])"
            ]
          },
          "metadata": {},
          "execution_count": 45
        }
      ]
    },
    {
      "cell_type": "code",
      "source": [
        "A[1] =  A[1] - A[1,0]*A[0]\n"
      ],
      "metadata": {
        "id": "HitHuYty5OtQ"
      },
      "execution_count": 22,
      "outputs": []
    },
    {
      "cell_type": "code",
      "source": [
        "A"
      ],
      "metadata": {
        "colab": {
          "base_uri": "https://localhost:8080/"
        },
        "id": "oESO1sLFrTHH",
        "outputId": "acf79891-6b49-49dc-fd6e-dc8c26faa824"
      },
      "execution_count": 23,
      "outputs": [
        {
          "output_type": "execute_result",
          "data": {
            "text/plain": [
              "array([[1.        , 0.18181818, 0.27272727],\n",
              "       [0.        , 1.14545455, 1.81818182],\n",
              "       [1.        , 0.        , 1.        ]])"
            ]
          },
          "metadata": {},
          "execution_count": 23
        }
      ]
    },
    {
      "cell_type": "code",
      "source": [
        "A[2] =  A[2] - A[2,0]*A[0]"
      ],
      "metadata": {
        "id": "n3ydkLg9rTb_"
      },
      "execution_count": 26,
      "outputs": []
    },
    {
      "cell_type": "code",
      "source": [
        "A"
      ],
      "metadata": {
        "colab": {
          "base_uri": "https://localhost:8080/"
        },
        "id": "G0TnRGmdrujN",
        "outputId": "e779274f-3287-4418-87e8-1f848c026159"
      },
      "execution_count": 27,
      "outputs": [
        {
          "output_type": "execute_result",
          "data": {
            "text/plain": [
              "array([[ 1.        ,  0.18181818,  0.27272727],\n",
              "       [ 0.        ,  1.14545455,  1.81818182],\n",
              "       [ 0.        , -0.18181818,  0.72727273]])"
            ]
          },
          "metadata": {},
          "execution_count": 27
        }
      ]
    },
    {
      "cell_type": "code",
      "source": [
        "len(A)"
      ],
      "metadata": {
        "colab": {
          "base_uri": "https://localhost:8080/"
        },
        "id": "7dt7FvoNru5D",
        "outputId": "6890941f-3351-4a2f-8227-de94372bf64c"
      },
      "execution_count": 32,
      "outputs": [
        {
          "output_type": "execute_result",
          "data": {
            "text/plain": [
              "3"
            ]
          },
          "metadata": {},
          "execution_count": 32
        }
      ]
    },
    {
      "cell_type": "code",
      "source": [],
      "metadata": {
        "id": "fWQSNanTsHrH"
      },
      "execution_count": null,
      "outputs": []
    }
  ]
}