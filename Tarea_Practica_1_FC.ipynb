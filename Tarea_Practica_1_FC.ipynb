{
  "nbformat": 4,
  "nbformat_minor": 0,
  "metadata": {
    "colab": {
      "provenance": [],
      "authorship_tag": "ABX9TyMkrGSP5TTmHnQzwZ7+h4vl",
      "include_colab_link": true
    },
    "kernelspec": {
      "name": "python3",
      "display_name": "Python 3"
    },
    "language_info": {
      "name": "python"
    }
  },
  "cells": [
    {
      "cell_type": "markdown",
      "metadata": {
        "id": "view-in-github",
        "colab_type": "text"
      },
      "source": [
        "<a href=\"https://colab.research.google.com/github/Jair-art/Nube/blob/main/Tarea_Practica_1_FC.ipynb\" target=\"_parent\"><img src=\"https://colab.research.google.com/assets/colab-badge.svg\" alt=\"Open In Colab\"/></a>"
      ]
    },
    {
      "cell_type": "markdown",
      "source": [
        "1. **Altitud de un satélite:**"
      ],
      "metadata": {
        "id": "LiJA338v_LVu"
      }
    },
    {
      "cell_type": "markdown",
      "source": [
        "Escribe un programa que le pida al usuario que ingrese el valor deseado de T y\n",
        "luego calcula e imprima la altitud correcta en metros."
      ],
      "metadata": {
        "id": "CWA8aLv4_wAT"
      }
    },
    {
      "cell_type": "code",
      "execution_count": null,
      "metadata": {
        "colab": {
          "base_uri": "https://localhost:8080/"
        },
        "id": "GRVcWs89_DyR",
        "outputId": "2e8d3d09-1e84-4294-c0a1-4ff81325919a"
      },
      "outputs": [
        {
          "output_type": "stream",
          "name": "stdout",
          "text": [
            "Coloca el periodo (en horas) del satelite que orbita la Tierra: 8\n",
            "La altitud del satelite viene dada por 63769785.192893 m o mejor aun 63769.785193 km\n"
          ]
        }
      ],
      "source": [
        "import numpy as np\n",
        "\n",
        "# funcion que calcula la altitud, dado el periodo de un objeto orbitando.\n",
        "\n",
        "T_0 = float(input('Coloca el periodo (en horas) del satelite que orbita la Tierra: '))\n",
        "\n",
        "T_1 = 3600*T_0\n",
        "\n",
        "G = 6.67e-11\n",
        "M = 5.97e24\n",
        "R = 6371\n",
        "\n",
        "h = np.cbrt((G*M*T_1**2)/4*np.pi)-R\n",
        "hh = h/1000\n",
        "\n",
        "print('La altitud del satelite viene dada por %f m o mejor aun %f km' % (h,hh))"
      ]
    },
    {
      "cell_type": "markdown",
      "source": [
        "Utiliza tu programa para calcular las altitudes de los satelites que orbitan la Tierra una vez al d ́ıa (la llamada orbita geoestacionaria), una vez cada 90 minutos y una vez cada 45 minutos. ¿Qué concluyes de este último cálculo?"
      ],
      "metadata": {
        "id": "swzp3Seb_yHd"
      }
    },
    {
      "cell_type": "markdown",
      "source": [
        "3. Orbitas planetarias:"
      ],
      "metadata": {
        "id": "lHnoxuLiDlAr"
      }
    },
    {
      "cell_type": "code",
      "source": [
        "import numpy as np\n",
        "import sympy as sp\n",
        "\n",
        "a = sp.Symbol(\"a\")\n",
        "b = sp.Symbol(\"b\")\n",
        "c = sp.Symbol(\"c\")\n",
        "\n",
        "dis = -b + np.sqrt(b**2 - 4*a*c)\n",
        "\n",
        "if dis == 0 or a == 0:\n",
        "    print(\"La ecuacion cuadratica no tiene solucion real o no podemos dividir entre cero.\")\n",
        "\n",
        "else:\n",
        "    x1 = (-b + np.sqrt(b**2 - 4*a*c))/2*a\n",
        "    x2 = (-b - np.sqrt(b**2 - 4*a*c))/2*a\n",
        "    print(\"Las soluciones son:\", x1, \"y\", x2)\n"
      ],
      "metadata": {
        "colab": {
          "base_uri": "https://localhost:8080/",
          "height": 211
        },
        "id": "mGDiIV9z_Vxc",
        "outputId": "ffad4179-c887-43c3-df59-e452446af862"
      },
      "execution_count": null,
      "outputs": [
        {
          "output_type": "error",
          "ename": "NameError",
          "evalue": "name 'sqrt' is not defined",
          "traceback": [
            "\u001b[0;31m---------------------------------------------------------------------------\u001b[0m",
            "\u001b[0;31mNameError\u001b[0m                                 Traceback (most recent call last)",
            "\u001b[0;32m<ipython-input-17-2464253222>\u001b[0m in \u001b[0;36m<cell line: 0>\u001b[0;34m()\u001b[0m\n\u001b[1;32m      6\u001b[0m \u001b[0mc\u001b[0m \u001b[0;34m=\u001b[0m \u001b[0msp\u001b[0m\u001b[0;34m.\u001b[0m\u001b[0mSymbol\u001b[0m\u001b[0;34m(\u001b[0m\u001b[0;34m\"c\"\u001b[0m\u001b[0;34m)\u001b[0m\u001b[0;34m\u001b[0m\u001b[0;34m\u001b[0m\u001b[0m\n\u001b[1;32m      7\u001b[0m \u001b[0;34m\u001b[0m\u001b[0m\n\u001b[0;32m----> 8\u001b[0;31m \u001b[0mdis\u001b[0m \u001b[0;34m=\u001b[0m \u001b[0;34m-\u001b[0m\u001b[0mb\u001b[0m \u001b[0;34m+\u001b[0m \u001b[0msqrt\u001b[0m\u001b[0;34m(\u001b[0m\u001b[0mb\u001b[0m\u001b[0;34m**\u001b[0m\u001b[0;36m2\u001b[0m \u001b[0;34m-\u001b[0m \u001b[0;36m4\u001b[0m\u001b[0;34m*\u001b[0m\u001b[0ma\u001b[0m\u001b[0;34m*\u001b[0m\u001b[0mc\u001b[0m\u001b[0;34m)\u001b[0m\u001b[0;34m\u001b[0m\u001b[0;34m\u001b[0m\u001b[0m\n\u001b[0m\u001b[1;32m      9\u001b[0m \u001b[0;34m\u001b[0m\u001b[0m\n\u001b[1;32m     10\u001b[0m \u001b[0;32mif\u001b[0m \u001b[0mdis\u001b[0m \u001b[0;34m==\u001b[0m \u001b[0;36m0\u001b[0m \u001b[0;32mor\u001b[0m \u001b[0ma\u001b[0m \u001b[0;34m==\u001b[0m \u001b[0;36m0\u001b[0m\u001b[0;34m:\u001b[0m\u001b[0;34m\u001b[0m\u001b[0;34m\u001b[0m\u001b[0m\n",
            "\u001b[0;31mNameError\u001b[0m: name 'sqrt' is not defined"
          ]
        }
      ]
    },
    {
      "cell_type": "code",
      "source": [
        "cuadratica(1,5,6)"
      ],
      "metadata": {
        "colab": {
          "base_uri": "https://localhost:8080/"
        },
        "id": "gE0u5a2pEoan",
        "outputId": "173df544-6e1e-4c27-af25-99c09decb13e"
      },
      "execution_count": null,
      "outputs": [
        {
          "output_type": "stream",
          "name": "stdout",
          "text": [
            "Las soluciones son: -2.0 y -3.0\n"
          ]
        }
      ]
    },
    {
      "cell_type": "markdown",
      "source": [
        "****"
      ],
      "metadata": {
        "id": "N0FKVRTPXgww"
      }
    },
    {
      "cell_type": "markdown",
      "source": [
        "**5. La constante de Madelung**"
      ],
      "metadata": {
        "id": "Hjrhh-KmGKoU"
      }
    },
    {
      "cell_type": "code",
      "source": [],
      "metadata": {
        "colab": {
          "base_uri": "https://localhost:8080/"
        },
        "id": "ysV7ugsYNpue",
        "outputId": "f72b799b-7be7-4cf2-c0e4-512347b2505c"
      },
      "execution_count": null,
      "outputs": [
        {
          "output_type": "execute_result",
          "data": {
            "text/plain": [
              "[[0.5985738727282741, 0.5816923389154924, 0.7728385715557098],\n",
              " [-0.6111655106233613, -0.31206703827839144, -0.11277607596511663]]"
            ]
          },
          "metadata": {},
          "execution_count": 40
        }
      ]
    },
    {
      "cell_type": "code",
      "source": [
        "# Potencial en el origen creado por el átomo\n",
        "\n",
        "import numpy as np\n",
        "from random import randint, random, uniform\n",
        "\n",
        "\"\"\"\n",
        "Se crea una lista con sublistas, cada una con tres entradas, las cuales representan\n",
        "las posiciones de los atomos. Esta fueron generadas aleatoriamente.\n",
        "\"\"\"\n",
        "n = 10000 # n representa el número de átomos alrededor del átomo de Na\n",
        "ls = [[uniform(-10,10),uniform(-10,10),uniform(-10,10)] for i in range(n)]\n",
        "\n",
        "a = 0.3 # deifinimos es espaciado\n",
        "e_0 = 8.85e-12\n",
        "e = -1.602e-19\n",
        "\n",
        "V_tot = 0\n",
        "\n",
        "\"\"\"\n",
        "Definimos la distancia desde el origen al atomo en la posicion (i,j,k).\n",
        "Asimismo se define el potencial\n",
        "Se realiza un condicional, si i + j + k es par entonces V tendra signo positivo,t\n",
        "en caso contrario este tendra signo negativo.\n",
        "Se r\n",
        "\"\"\"\n",
        "for i in ls:\n",
        "  d = a*np.sqrt(i[0]**2 + i[1]**2 + i[2]**2)\n",
        "  V = e/(4*np.pi*e_0*d)\n",
        "\n",
        "  if V%2 == 0:\n",
        "    V_tot = V_tot + V\n",
        "\n",
        "  else:\n",
        "    V_tot = V_tot - V\n",
        "\n",
        "M = (V_tot*4*np.pi*e_0*a)/e\n",
        "\n",
        "print(\"El valor aproximado de la constante de Madelung es\", M,\"con\", n, \"atomos y una espaciado de a =\",a)"
      ],
      "metadata": {
        "colab": {
          "base_uri": "https://localhost:8080/"
        },
        "id": "8b61ZephGOK3",
        "outputId": "76b97185-9b29-4f01-aa92-09a133b028f2"
      },
      "execution_count": null,
      "outputs": [
        {
          "output_type": "stream",
          "name": "stdout",
          "text": [
            "El valor aproximado de la constante de Madelung es -1184.0322096952139 con 10000 atomos y una espaciado de a = 0.3\n"
          ]
        }
      ]
    },
    {
      "cell_type": "code",
      "source": [
        "from random import randrange\n",
        "\n",
        "a = [randrange(0,10,1) for i in range(10)]\n",
        "print(a)"
      ],
      "metadata": {
        "colab": {
          "base_uri": "https://localhost:8080/"
        },
        "id": "Q70rN90zbuCH",
        "outputId": "853baf7c-7cad-4b2c-819f-0e56c61ac25f"
      },
      "execution_count": null,
      "outputs": [
        {
          "output_type": "stream",
          "name": "stdout",
          "text": [
            "[8, 0, 6, 9, 8, 1, 4, 1, 0, 2]\n"
          ]
        }
      ]
    },
    {
      "cell_type": "code",
      "source": [
        "uniform?"
      ],
      "metadata": {
        "id": "SGg_Hv7ed20I"
      },
      "execution_count": null,
      "outputs": []
    },
    {
      "cell_type": "code",
      "source": [
        "ls = [[1,2],[3,4]]\n",
        "\n",
        "for i in ls:\n",
        "  a = i[0]+i[1]\n",
        "  print(a)"
      ],
      "metadata": {
        "colab": {
          "base_uri": "https://localhost:8080/"
        },
        "id": "xWkek2_1TDoV",
        "outputId": "63d16736-dd62-4596-c9ba-de1275e7f63a"
      },
      "execution_count": null,
      "outputs": [
        {
          "output_type": "stream",
          "name": "stdout",
          "text": [
            "3\n",
            "7\n"
          ]
        }
      ]
    },
    {
      "cell_type": "markdown",
      "source": [
        "**6. Coeficientes binomiales**"
      ],
      "metadata": {
        "id": "Yv_XIMaIXkE8"
      }
    },
    {
      "cell_type": "code",
      "source": [
        "def binomial(n, k):\n",
        "\n",
        "  ls =  [i for i in range(k+1)]\n",
        "  c = 1\n",
        "  for i in ls:\n",
        "    c = c*i\n",
        "\n",
        "  if k == 0:\n",
        "    return 1\n",
        "  else:\n",
        "    ()/()"
      ],
      "metadata": {
        "id": "47f84CJSGEkM"
      },
      "execution_count": null,
      "outputs": []
    },
    {
      "cell_type": "markdown",
      "source": [
        "**7. Resursión**"
      ],
      "metadata": {
        "id": "Xwsam4erPveu"
      }
    },
    {
      "cell_type": "code",
      "source": [
        "def catalan(n):\n",
        "  if n == 0:\n",
        "    return 1\n",
        "  else:\n",
        "    return ((4*n - 2)/(n + 1))*catalan(n-1)"
      ],
      "metadata": {
        "id": "KDJk-BrNPxAH"
      },
      "execution_count": null,
      "outputs": []
    },
    {
      "cell_type": "code",
      "source": [
        "catalan(100)"
      ],
      "metadata": {
        "colab": {
          "base_uri": "https://localhost:8080/"
        },
        "id": "dNzQ9KH1QUhj",
        "outputId": "55019971-b1b3-4bdb-ccd0-a3c272c986a7"
      },
      "execution_count": null,
      "outputs": [
        {
          "output_type": "execute_result",
          "data": {
            "text/plain": [
              "8.965199470901317e+56"
            ]
          },
          "metadata": {},
          "execution_count": 7
        }
      ]
    },
    {
      "cell_type": "markdown",
      "source": [
        "b) Euclides demostró que el máximo común divisor g(m, n) de dos enteros no negativos m y n satisface que:"
      ],
      "metadata": {
        "id": "9M7gD2HaRgoX"
      }
    },
    {
      "cell_type": "code",
      "source": [
        "# Creamos la función g(m,n) que calcula el mcd de dos enteros no negativos\n",
        "\n",
        "def g(m, n):\n",
        "\n",
        "  \"\"\"\n",
        "  Esta función toma dos valores no negativos m y n. Para n = 0 retorna el valor de m.\n",
        "  Mientras que para n > 0 calcula el mcd mediante recursividad. En la función de\n",
        "  recursividad se calcula el mcd de n y el modulo de m con n. Finalmente, si n o m son\n",
        "  valores negativos, se imprime un mensaje en donde se dice que la función no está\n",
        "  definidad para numros negativos.\n",
        "  \"\"\"\n",
        "\n",
        "  if n == 0:\n",
        "    return m\n",
        "  elif n < 0 or m < 0:\n",
        "    print(\"La función no está definida para numeros negativos\")\n",
        "  else:\n",
        "    return g(n, m%n)"
      ],
      "metadata": {
        "id": "W4nLu9o-QiQ2"
      },
      "execution_count": null,
      "outputs": []
    },
    {
      "cell_type": "code",
      "source": [
        "g(108, 192)"
      ],
      "metadata": {
        "colab": {
          "base_uri": "https://localhost:8080/"
        },
        "id": "yXV7Z-zGSa6x",
        "outputId": "9b152b56-d79a-40be-b2e1-0f3a13950571"
      },
      "execution_count": null,
      "outputs": [
        {
          "output_type": "execute_result",
          "data": {
            "text/plain": [
              "12"
            ]
          },
          "metadata": {},
          "execution_count": 34
        }
      ]
    },
    {
      "cell_type": "code",
      "source": [],
      "metadata": {
        "id": "P1Cr-1D7Sv_-"
      },
      "execution_count": null,
      "outputs": []
    }
  ]
}