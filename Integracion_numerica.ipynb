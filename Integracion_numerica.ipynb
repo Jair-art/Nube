{
 "cells": [
  {
   "cell_type": "code",
   "execution_count": 1,
   "id": "507f125b-c7d5-40ee-8ac7-f6d389c4d024",
   "metadata": {},
   "outputs": [],
   "source": [
    "import numpy as np"
   ]
  },
  {
   "cell_type": "markdown",
   "id": "a9163e92-4216-4961-a337-83905e15ea98",
   "metadata": {},
   "source": [
    "a = 0\n",
    "b = 1\n",
    "n = 100\n",
    "\n",
    "h = (b-a)/n\n",
    "\n",
    "x = []\n",
    "x.append(a)\n",
    "\n",
    "for i in range(n):\n",
    "    a = a + h\n",
    "    x.append(a)\n",
    "    \n",
    "f_x = []\n",
    "\n",
    "for i in x:\n",
    "    c = (a + i*h)**2 + (a + (i-1)*h)**2\n",
    "    f_x.append(c)\n",
    "\n",
    "int = (h/2)*sum(f_x)\n",
    "print(int)"
   ]
  },
  {
   "cell_type": "markdown",
   "id": "b0a7ad53-c51d-48a1-a5e3-3fa68352fc9e",
   "metadata": {},
   "source": [
    "Integracion Numerica"
   ]
  },
  {
   "cell_type": "code",
   "execution_count": 61,
   "id": "fbc4e6e0-029c-4313-af7f-64679b0d4e63",
   "metadata": {},
   "outputs": [],
   "source": [
    "def f(x):\n",
    "    return x**2"
   ]
  },
  {
   "cell_type": "code",
   "execution_count": 40,
   "id": "9c039a7d-46b4-414c-97f8-2e4c848e7963",
   "metadata": {},
   "outputs": [],
   "source": [
    "x = np.linspace(0,1,10)\n",
    "f_x = f(x)"
   ]
  },
  {
   "cell_type": "code",
   "execution_count": 64,
   "id": "deaa877c-51c8-4167-ad7a-6c1388fef8f4",
   "metadata": {},
   "outputs": [
    {
     "data": {
      "text/plain": [
       "9"
      ]
     },
     "execution_count": 64,
     "metadata": {},
     "output_type": "execute_result"
    }
   ],
   "source": [
    "f(3)"
   ]
  },
  {
   "cell_type": "code",
   "execution_count": 69,
   "id": "7db2f0b8-940f-4804-bab1-464aeb3cb500",
   "metadata": {},
   "outputs": [],
   "source": [
    "def prueba(f):\n",
    "    return f(10)"
   ]
  },
  {
   "cell_type": "code",
   "execution_count": 70,
   "id": "eac816fe-ce5c-4cb9-aa2a-04ae92a2885d",
   "metadata": {},
   "outputs": [
    {
     "data": {
      "text/plain": [
       "100"
      ]
     },
     "execution_count": 70,
     "metadata": {},
     "output_type": "execute_result"
    }
   ],
   "source": [
    "prueba(f)"
   ]
  },
  {
   "cell_type": "code",
   "execution_count": 75,
   "id": "dc2fab3c-bc0f-4372-bde8-87b3307ba379",
   "metadata": {},
   "outputs": [],
   "source": [
    "def int_trapcecio(f,a,b,n):\n",
    "    \n",
    "    h = (b-a)/n\n",
    "    A = (h/2)*(f(a)-f(b)) \n",
    "    \n",
    "    c = 0\n",
    "    for i in range(1,n):\n",
    "        c = c + f(a + i*h)\n",
    "    int = A + h*c\n",
    "    \n",
    "    return int\n",
    "\n",
    "\n",
    "    "
   ]
  },
  {
   "cell_type": "code",
   "execution_count": 77,
   "id": "dbfc13d3-7aa7-47b3-907f-7909a9bedead",
   "metadata": {},
   "outputs": [
    {
     "data": {
      "text/plain": [
       "0.33233349999999995"
      ]
     },
     "execution_count": 77,
     "metadata": {},
     "output_type": "execute_result"
    }
   ],
   "source": [
    "int_trapcecio(f,0,1,1000)"
   ]
  },
  {
   "cell_type": "markdown",
   "id": "fa98a9da-0339-4907-b2c7-891e76b21fdf",
   "metadata": {},
   "source": [
    "Regla de Simpson"
   ]
  },
  {
   "cell_type": "code",
   "execution_count": null,
   "id": "e9772ef5-0854-4da0-8d23-be964a4c2093",
   "metadata": {},
   "outputs": [],
   "source": [
    "def simpson(f,a,b,n):\n",
    "    h = (b-a)/n\n",
    "    A = (h/2)*(f(a)-f(b)) \n",
    "    \n",
    "    c = 0\n",
    "    for i in range(1,n):\n",
    "        c = c + f(a + i*h)\n",
    "    int = A + h*c\n",
    "    \n",
    "    return int"
   ]
  }
 ],
 "metadata": {
  "kernelspec": {
   "display_name": "Python 3 (ipykernel)",
   "language": "python",
   "name": "python3"
  },
  "language_info": {
   "codemirror_mode": {
    "name": "ipython",
    "version": 3
   },
   "file_extension": ".py",
   "mimetype": "text/x-python",
   "name": "python",
   "nbconvert_exporter": "python",
   "pygments_lexer": "ipython3",
   "version": "3.13.2"
  }
 },
 "nbformat": 4,
 "nbformat_minor": 5
}
